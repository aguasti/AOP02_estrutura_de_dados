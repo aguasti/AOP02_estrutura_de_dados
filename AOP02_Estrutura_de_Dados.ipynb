{
  "nbformat": 4,
  "nbformat_minor": 0,
  "metadata": {
    "colab": {
      "provenance": [],
      "mount_file_id": "1N4pcnYRMKSdy7Yq7DJFWNEkMHe_ERrj8",
      "authorship_tag": "ABX9TyNSDgMOFmiwaMDZ1f0VcsYZ",
      "include_colab_link": true
    },
    "kernelspec": {
      "name": "python3",
      "display_name": "Python 3"
    },
    "language_info": {
      "name": "python"
    }
  },
  "cells": [
    {
      "cell_type": "markdown",
      "metadata": {
        "id": "view-in-github",
        "colab_type": "text"
      },
      "source": [
        "<a href=\"https://colab.research.google.com/github/aguasti/AOP02_estrutura_de_dados/blob/main/AOP02_Estrutura_de_Dados.ipynb\" target=\"_parent\"><img src=\"https://colab.research.google.com/assets/colab-badge.svg\" alt=\"Open In Colab\"/></a>"
      ]
    },
    {
      "cell_type": "code",
      "execution_count": 3,
      "metadata": {
        "colab": {
          "base_uri": "https://localhost:8080/"
        },
        "id": "FrkBaWDQI5jy",
        "outputId": "5598abec-6f0e-4e45-93b6-b1b01ab904df"
      },
      "outputs": [
        {
          "output_type": "stream",
          "name": "stdout",
          "text": [
            "A média de valor gasto por cliente é: 70.0\n"
          ]
        }
      ],
      "source": [
        "class Nodo:\n",
        "    def __init__(self, valor):\n",
        "        self.valor = valor\n",
        "        self.proximo = None\n",
        "\n",
        "class Lista:\n",
        "    def __init__(self):\n",
        "        self.primeiro = None\n",
        "\n",
        "    def adicionar(self, valor):\n",
        "        novo_nodo = Nodo(valor)\n",
        "        if self.primeiro is None:\n",
        "            self.primeiro = novo_nodo\n",
        "        else:\n",
        "            atual = self.primeiro\n",
        "            while atual.proximo:\n",
        "                atual = atual.proximo\n",
        "            atual.proximo = novo_nodo\n",
        "\n",
        "    def calcular_media(self):\n",
        "        total = 0\n",
        "        contador = 0\n",
        "        atual = self.primeiro\n",
        "        while atual:\n",
        "            total += atual.valor\n",
        "            contador += 1\n",
        "            atual = atual.proximo\n",
        "        if contador == 0:\n",
        "            return 0\n",
        "        return total / contador\n",
        "\n",
        "# Teste da Implementação\n",
        "lista_contas = Lista()\n",
        "lista_contas.adicionar(50)\n",
        "lista_contas.adicionar(70)\n",
        "lista_contas.adicionar(90)\n",
        "\n",
        "media = lista_contas.calcular_media()\n",
        "print(f'A média de valor gasto por cliente é: {media}')"
      ]
    },
    {
      "cell_type": "code",
      "source": [
        "def verifica_parenteses_balanceados(expressao):\n",
        "    verificacao = []\n",
        "\n",
        "    for char in expressao:\n",
        "        if char == '(':\n",
        "            verificacao.append(char)\n",
        "        elif char == ')':\n",
        "            if not verificacao:\n",
        "                return False\n",
        "            verificacao.pop()\n",
        "\n",
        "    return not verificacao\n",
        "\n",
        "testes_balanceamento = [\"((5+6)*(7+8))/(4+3)\", \"((5+6)*(7+8))/(4+3\"]\n",
        "\n",
        "for expressao in testes_balanceamento:\n",
        "    print(verifica_parenteses_balanceados(expressao)) # True = Balanceada / False = Desbalanceada\n"
      ],
      "metadata": {
        "colab": {
          "base_uri": "https://localhost:8080/"
        },
        "id": "aDRduI05JOUv",
        "outputId": "69e9e5e2-6662-46fb-9b6a-2d2b5c587f06"
      },
      "execution_count": 2,
      "outputs": [
        {
          "output_type": "stream",
          "name": "stdout",
          "text": [
            "True\n",
            "False\n"
          ]
        }
      ]
    }
  ]
}